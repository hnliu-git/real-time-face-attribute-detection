{
 "cells": [
  {
   "cell_type": "code",
   "execution_count": 1,
   "id": "b274cada",
   "metadata": {},
   "outputs": [],
   "source": [
    "# !pip install opencv-python\n",
    "# !pip3 install torch==1.10.1+cu113 torchvision==0.11.2+cu113 torchaudio===0.10.1+cu113 -f https://download.pytorch.org/whl/cu113/torch_stable.html"
   ]
  },
  {
   "cell_type": "code",
   "execution_count": 2,
   "id": "e4de6fad",
   "metadata": {},
   "outputs": [],
   "source": [
    "import sys\n",
    "import os\n",
    "\n",
    "from numpy.lib.npyio import save\n",
    "\n",
    "datapath = \"data/\"\n",
    "pic_path = datapath + \"img_align_celeba/img_align_celeba\"\n",
    "\n",
    "try:\n",
    "    os.makedirs(\"data/attr/\")\n",
    "except FileExistsError:\n",
    "    pass\n",
    "\n",
    "import cv2\n",
    "import glob\n",
    "import yaml\n",
    "import numpy as np\n",
    "from PIL import Image\n",
    "from matplotlib import pyplot as plt\n",
    "\n",
    "import torch\n",
    "import torch.nn as nn\n",
    "from torch.utils.data import Dataset, DataLoader\n",
    "from torchvision import transforms, utils, datasets\n",
    "import pandas as pd\n",
    "from IPython.display import display"
   ]
  },
  {
   "cell_type": "code",
   "execution_count": 3,
   "id": "8ac3d996-b0e2-4b5d-8b9b-4908ef512239",
   "metadata": {},
   "outputs": [],
   "source": [
    "batch_size = 8"
   ]
  },
  {
   "cell_type": "code",
   "execution_count": 4,
   "id": "c3e824cb",
   "metadata": {},
   "outputs": [],
   "source": [
    "attr_celeba = pd.read_csv(datapath+\"list_attr_celeba.csv\").set_index(\"image_id\")\n",
    "attr_celeba_eval_part = pd.read_csv(datapath+\"list_eval_partition.csv\").set_index(\"image_id\")\n",
    "attr_celeba_join = attr_celeba.join(attr_celeba_eval_part, on=\"image_id\").reset_index()\n",
    "attr_celeba_join[attr_celeba_join[\"partition\"]==0].drop(\"partition\", axis=1).set_index(\"image_id\").to_csv(\"data/attr/\"+\"train.csv\")\n",
    "attr_celeba_join[attr_celeba_join[\"partition\"]==1].drop(\"partition\", axis=1).set_index(\"image_id\").to_csv(\"data/attr/\"+\"test.csv\")\n",
    "attr_celeba_join[attr_celeba_join[\"partition\"]==2].drop(\"partition\", axis=1).set_index(\"image_id\").to_csv(\"data/attr/\"+\"val.csv\")"
   ]
  },
  {
   "cell_type": "code",
   "execution_count": 5,
   "id": "cf07e842",
   "metadata": {},
   "outputs": [
    {
     "name": "stderr",
     "output_type": "stream",
     "text": [
      "Clipping input data to the valid range for imshow with RGB data ([0..1] for floats or [0..255] for integers).\n"
     ]
    },
    {
     "data": {
      "image/png": "[encoded data removed]",
      "text/plain": [
       "<Figure size 432x288 with 1 Axes>"
      ]
     },
     "metadata": {
      "needs_background": "light"
     },
     "output_type": "display_data"
    },
    {
     "name": "stdout",
     "output_type": "stream",
     "text": [
      "20347\n"
     ]
    }
   ],
   "source": [
    "# 定义数据的处理方式\n",
    "data_transforms = {\n",
    "    'train': transforms.Compose([\n",
    "        # 将图像进行缩放，缩放为256*256\n",
    "        transforms.Resize(256),\n",
    "        # 在256*256的图像上随机裁剪出224*224大小的图像用于训练\n",
    "        transforms.RandomResizedCrop(224),\n",
    "        # 图像用于翻转\n",
    "        transforms.RandomHorizontalFlip(),\n",
    "        # 转换成tensor向量\n",
    "        transforms.ToTensor(),\n",
    "        # 对图像进行归一化操作\n",
    "        # [0.485, 0.456, 0.406]，RGB通道的均值与标准差\n",
    "        transforms.Normalize([0.485, 0.456, 0.406], [0.229, 0.224, 0.225])\n",
    "    ]),\n",
    "    \n",
    "    'test': transforms.Compose([\n",
    "        transforms.Resize(256),\n",
    "        transforms.CenterCrop(224),\n",
    "        transforms.ToTensor(),\n",
    "        transforms.Normalize([0.485, 0.456, 0.406], [0.229, 0.224, 0.225])\n",
    "    ]),\n",
    "    \n",
    "    # 测试集需要中心裁剪，甚至不裁剪，直接缩放为224*224for，不需要翻转\n",
    "    'val': transforms.Compose([\n",
    "        transforms.Resize(256),\n",
    "        transforms.CenterCrop(224),\n",
    "        transforms.ToTensor(),\n",
    "        transforms.Normalize([0.485, 0.456, 0.406], [0.229, 0.224, 0.225])\n",
    "    ]),\n",
    "}\n",
    "\n",
    "\n",
    "# 定义数据读入\n",
    "def Load_Image_Information(path):\n",
    "    # 图像存储路径\n",
    "    image_Root_Dir = pic_path\n",
    "    # 获取图像的路径\n",
    "    iamge_Dir = os.path.join(image_Root_Dir, path)\n",
    "    # 以RGB格式打开图像\n",
    "    # Pytorch DataLoader就是使用PIL所读取的图像格式\n",
    "    # 建议就用这种方法读取图像，当读入灰度图像时convert('')\n",
    "    return Image.open(iamge_Dir).convert('RGB')\n",
    "\n",
    "\n",
    "# 定义自己数据集的数据读入类\n",
    "class my_Data_Set(nn.Module):\n",
    "    def __init__(self, csv, transform=None, target_transform=None, loader=None):\n",
    "        super(my_Data_Set, self).__init__()\n",
    "        fp = open(csv, 'r')\n",
    "        images = []\n",
    "        labels = []\n",
    "\n",
    "        counter = 0\n",
    "        for line in fp:\n",
    "            if counter != 0:\n",
    "                line.strip('\\n')\n",
    "                line.rstrip()\n",
    "                information = line.split(\",\")\n",
    "                images.append(information[0])\n",
    "                labels.append(int(information[1]))\n",
    "            counter += 1\n",
    "        self.images = images\n",
    "        self.labels = labels\n",
    "        self.transform = transform\n",
    "        self.target_transform = target_transform\n",
    "        self.loader = loader\n",
    "\n",
    "    # 重写这个函数用来进行图像数据的读取\n",
    "    def __getitem__(self, item):\n",
    "        # 获取图像名和标签\n",
    "        imageName = self.images[item]\n",
    "        label = self.labels[item]\n",
    "        # 读入图像信息\n",
    "        image = self.loader(imageName)\n",
    "        # 处理图像数据\n",
    "        if self.transform is not None:\n",
    "            image = self.transform(image)\n",
    "        return image, label\n",
    "\n",
    "    # 重写这个函数，来看数据集中含有多少数据\n",
    "    def __len__(self):\n",
    "        return len(self.images)\n",
    "\n",
    "\n",
    "# 生成Pytorch所需的DataLoader数据输入格式\n",
    "train_Data = my_Data_Set(\"data/attr/\"+\"train.csv\", transform=data_transforms['train'], loader=Load_Image_Information)\n",
    "test_Data  = my_Data_Set(\"data/attr/\"+\"train.csv\", transform=data_transforms['test'] , loader=Load_Image_Information)\n",
    "val_Data   = my_Data_Set(\"data/attr/\"+\"val.csv\"  , transform=data_transforms['val']  , loader=Load_Image_Information)\n",
    "\n",
    "train_DataLoader = DataLoader(train_Data, batch_size=batch_size, shuffle=True)\n",
    "test_DataLoader  = DataLoader(test_Data,  batch_size=batch_size, shuffle=True)\n",
    "val_DataLoader   = DataLoader(val_Data,   batch_size=batch_size, shuffle=True)\n",
    "\n",
    "# 验证是否生成DataLoader格式数据\n",
    "\n",
    "for data in train_DataLoader:\n",
    "    inputs, labels = data\n",
    "    # print(inputs)\n",
    "    # print(labels)\n",
    "    img = inputs[0]\n",
    "    img = img.swapaxes(0,1)\n",
    "    img = img.swapaxes(1,2)\n",
    "    plt.imshow(img, interpolation='nearest')\n",
    "    plt.xlabel('LABEL'+str(int(labels[0])))\n",
    "    plt.show()\n",
    "    break\n",
    "print(len(train_DataLoader))\n",
    "# for data in test_DataLoader:\n",
    "#     inputs, labels = data\n",
    "#     print(inputs)\n",
    "#     print(labels)\n",
    "    \n",
    "# for data in val_DataLoader:\n",
    "#     inputs, labels = data\n",
    "#     print(inputs)\n",
    "#     print(labels)"
   ]
  }
 ],
 "metadata": {
  "kernelspec": {
   "display_name": "Python 3 (ipykernel)",
   "language": "python",
   "name": "python3"
  },
  "language_info": {
   "codemirror_mode": {
    "name": "ipython",
    "version": 3
   },
   "file_extension": ".py",
   "mimetype": "text/x-python",
   "name": "python",
   "nbconvert_exporter": "python",
   "pygments_lexer": "ipython3",
   "version": "3.8.8"
  }
 },
 "nbformat": 4,
 "nbformat_minor": 5
}
